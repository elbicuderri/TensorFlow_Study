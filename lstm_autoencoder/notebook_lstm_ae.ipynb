{
 "cells": [
  {
   "cell_type": "code",
   "execution_count": 6,
   "metadata": {},
   "outputs": [],
   "source": [
    "import matplotlib.pyplot as plt\n",
    "from matplotlib.pyplot import rcParams\n",
    "%matplotlib inline\n",
    "\n",
    "import seaborn as sns\n",
    "\n",
    "import pandas as pd\n",
    "import numpy as np\n",
    "import random\n",
    "from copy import copy\n",
    "\n",
    "import tensorflow as tf\n",
    "from tensorflow.keras import optimizers, Sequential\n",
    "from tensorflow.keras.models import Model\n",
    "from tensorflow.keras.utils import plot_model\n",
    "from tensorflow.keras.layers import Dense, LSTM, RepeatVector, TimeDistributed\n",
    "from tensorflow.keras.callbacks import ModelCheckpoint, TensorBoard\n",
    "\n",
    "from sklearn.preprocessing import StandardScaler\n",
    "from sklearn.model_selection import train_test_split\n",
    "from sklearn.metrics import confusion_matrix, precision_recall_curve\n",
    "from sklearn.metrics import recall_score, classification_report, auc, roc_curve\n",
    "from sklearn.metrics import precision_recall_fscore_support, f1_score\n",
    "\n",
    "from sklearn.model_selection import train_test_split"
   ]
  },
  {
   "cell_type": "code",
   "execution_count": 7,
   "metadata": {},
   "outputs": [],
   "source": [
    "SEED = 123 #used to help ra\n",
    "DATA_SPLIT_PCT = 0.2\n",
    "\n",
    "rcParams['figure.figsize'] \n",
    "LABELS = [\"Normal\",\"Break\"]"
   ]
  },
  {
   "cell_type": "code",
   "execution_count": 12,
   "metadata": {},
   "outputs": [
    {
     "data": {
      "text/html": [
       "<div>\n",
       "<style scoped>\n",
       "    .dataframe tbody tr th:only-of-type {\n",
       "        vertical-align: middle;\n",
       "    }\n",
       "\n",
       "    .dataframe tbody tr th {\n",
       "        vertical-align: top;\n",
       "    }\n",
       "\n",
       "    .dataframe thead th {\n",
       "        text-align: right;\n",
       "    }\n",
       "</style>\n",
       "<table border=\"1\" class=\"dataframe\">\n",
       "  <thead>\n",
       "    <tr style=\"text-align: right;\">\n",
       "      <th></th>\n",
       "      <th>0</th>\n",
       "      <th>1</th>\n",
       "      <th>2</th>\n",
       "    </tr>\n",
       "  </thead>\n",
       "  <tbody>\n",
       "    <tr>\n",
       "      <th>0</th>\n",
       "      <td>0.0001</td>\n",
       "      <td>-2.760010</td>\n",
       "      <td>0</td>\n",
       "    </tr>\n",
       "    <tr>\n",
       "      <th>1</th>\n",
       "      <td>0.0002</td>\n",
       "      <td>-2.855682</td>\n",
       "      <td>0</td>\n",
       "    </tr>\n",
       "    <tr>\n",
       "      <th>2</th>\n",
       "      <td>0.0003</td>\n",
       "      <td>-2.407379</td>\n",
       "      <td>0</td>\n",
       "    </tr>\n",
       "    <tr>\n",
       "      <th>3</th>\n",
       "      <td>0.0004</td>\n",
       "      <td>-3.140411</td>\n",
       "      <td>0</td>\n",
       "    </tr>\n",
       "    <tr>\n",
       "      <th>4</th>\n",
       "      <td>0.0005</td>\n",
       "      <td>-3.152466</td>\n",
       "      <td>0</td>\n",
       "    </tr>\n",
       "    <tr>\n",
       "      <th>5</th>\n",
       "      <td>0.0006</td>\n",
       "      <td>-2.641754</td>\n",
       "      <td>0</td>\n",
       "    </tr>\n",
       "    <tr>\n",
       "      <th>6</th>\n",
       "      <td>0.0007</td>\n",
       "      <td>-2.699280</td>\n",
       "      <td>0</td>\n",
       "    </tr>\n",
       "    <tr>\n",
       "      <th>7</th>\n",
       "      <td>0.0008</td>\n",
       "      <td>-2.593536</td>\n",
       "      <td>0</td>\n",
       "    </tr>\n",
       "    <tr>\n",
       "      <th>8</th>\n",
       "      <td>0.0009</td>\n",
       "      <td>-2.668152</td>\n",
       "      <td>0</td>\n",
       "    </tr>\n",
       "    <tr>\n",
       "      <th>9</th>\n",
       "      <td>0.0010</td>\n",
       "      <td>-2.758636</td>\n",
       "      <td>0</td>\n",
       "    </tr>\n",
       "  </tbody>\n",
       "</table>\n",
       "</div>"
      ],
      "text/plain": [
       "        0         1  2\n",
       "0  0.0001 -2.760010  0\n",
       "1  0.0002 -2.855682  0\n",
       "2  0.0003 -2.407379  0\n",
       "3  0.0004 -3.140411  0\n",
       "4  0.0005 -3.152466  0\n",
       "5  0.0006 -2.641754  0\n",
       "6  0.0007 -2.699280  0\n",
       "7  0.0008 -2.593536  0\n",
       "8  0.0009 -2.668152  0\n",
       "9  0.0010 -2.758636  0"
      ]
     },
     "execution_count": 12,
     "metadata": {},
     "output_type": "execute_result"
    }
   ],
   "source": [
    "df = pd.read_csv(\"train.csv\",header=None) \n",
    "df.head(10)  # visualize the data."
   ]
  },
  {
   "cell_type": "code",
   "execution_count": 15,
   "metadata": {},
   "outputs": [],
   "source": [
    "def curve_shift(df, shift_by):\n",
    "    '''\n",
    "    This function will shift the binary labels in a dataframe.\n",
    "    The curve shift will be with respect to the 1s. \n",
    "    For example, if shift is -2, the following process\n",
    "    will happen: if row n is labeled as 1, then\n",
    "    - Make row (n+shift_by):(n+shift_by-1) = 1.\n",
    "    - Remove row n.\n",
    "    i.e. the labels will be shifted up to 2 rows up.\n",
    "    \n",
    "    Inputs:\n",
    "    df       A pandas dataframe with a binary labeled column. \n",
    "             This labeled column should be named as 'y'.\n",
    "    shift_by An integer denoting the number of rows to shift.\n",
    "    \n",
    "    Output\n",
    "    df       A dataframe with the binary labels shifted by shift.\n",
    "    '''\n",
    "\n",
    "    vector = df[2].copy()\n",
    "    \n",
    "    sign = lambda x: (1, -1)[x < 0]\n",
    "    \n",
    "    for s in range(abs(shift_by)):\n",
    "        tmp = vector.shift(sign(shift_by))\n",
    "        #print(tmp)\n",
    "        tmp = tmp.fillna(0)\n",
    "        vector += tmp\n",
    "        \n",
    "    labelcol = 2\n",
    "    tmp=29\n",
    "    # Add vector to the df\n",
    "    df.insert(loc=0, column=labelcol+tmp, value=vector)\n",
    "    # Remove the rows with labelcol == 1.\n",
    "    df = df.drop(df[df[labelcol] == 1].index)\n",
    "    # Drop labelcol and rename the tmp col as labelcol\n",
    "    df = df.drop(labelcol, axis=1)\n",
    "    df = df.rename(columns={labelcol+tmp: labelcol})\n",
    "    # Make the labelcol binary\n",
    "    df.loc[df[labelcol] > 0, labelcol] = 1\n",
    "\n",
    "    return df"
   ]
  },
  {
   "cell_type": "code",
   "execution_count": 16,
   "metadata": {},
   "outputs": [
    {
     "name": "stdout",
     "output_type": "stream",
     "text": [
      "Before shifting\n",
      "           0         1  2\n",
      "7227  0.7228 -2.538910  0\n",
      "7228  0.7229 -2.588348  0\n",
      "7229  0.7230 -2.932434  0\n",
      "7230  0.7231 -2.002716  1\n",
      "7231  0.7232 -1.266479  1\n"
     ]
    }
   ],
   "source": [
    "print('Before shifting')  # Positive labeled rows before shifting.\n",
    "one_indexes = df.index[df[2] == 1]\n",
    "print(df.iloc[(one_indexes[0]-3):(one_indexes[0]+2), 0:5].head(5))\n",
    "#display(df.iloc[(np.where(np.array(input_y) == 1)[0][0]-5):(np.where(np.array(input_y) == 1)[0][0]+1), ])"
   ]
  },
  {
   "cell_type": "code",
   "execution_count": 17,
   "metadata": {},
   "outputs": [
    {
     "name": "stdout",
     "output_type": "stream",
     "text": [
      "After shifting\n",
      "        2       0         1\n",
      "7226  0.0  0.7227 -2.337494\n",
      "7227  0.0  0.7228 -2.538910\n",
      "7228  1.0  0.7229 -2.588348\n",
      "7229  1.0  0.7230 -2.932434\n",
      "7235  0.0  0.7236 -2.089081\n"
     ]
    }
   ],
   "source": [
    "# Shift the response column y by 2 rows to do a 4-min ahead prediction.\n",
    "df_shift = curve_shift(df, shift_by = -2)\n",
    "\n",
    "print('After shifting')  # Validating if the shift happened correctly.\n",
    "print(df_shift.iloc[(one_indexes[0]-4):(one_indexes[0]+1), 0:5].head(5))"
   ]
  },
  {
   "cell_type": "code",
   "execution_count": 20,
   "metadata": {},
   "outputs": [
    {
     "data": {
      "text/plain": [
       "((99999, 1), (99999, 1))"
      ]
     },
     "execution_count": 20,
     "metadata": {},
     "output_type": "execute_result"
    }
   ],
   "source": [
    "input_X = df.loc[:, 1].values  # converts the df to a numpy array\n",
    "input_X = input_X.reshape(-1, 1)\n",
    "input_y = df[2].values\n",
    "input_y = input_y.reshape(-1, 1)\n",
    "\n",
    "n_features = input_X.shape[1]  # number of features\n",
    "\n",
    "input_X.shape, input_y.shape"
   ]
  },
  {
   "cell_type": "code",
   "execution_count": 21,
   "metadata": {},
   "outputs": [],
   "source": [
    "def temporalize(X, y, lookback):\n",
    "    X = []\n",
    "    y = []\n",
    "    for i in range(len(input_X)-lookback-1):\n",
    "        t = []\n",
    "        for j in range(1,lookback+1):\n",
    "            # Gather past records upto the lookback period\n",
    "            t.append(input_X[[(i+j+1)], :])\n",
    "        X.append(t)\n",
    "        y.append(input_y[i+lookback+1])\n",
    "    return X, y"
   ]
  },
  {
   "cell_type": "code",
   "execution_count": 22,
   "metadata": {},
   "outputs": [
    {
     "name": "stdout",
     "output_type": "stream",
     "text": [
      "First instance of y = 1 in the original data\n",
      "       31      0         1   2 \n",
      "7225  0.0  0.7226 -2.694397   0\n",
      "7226  0.0  0.7227 -2.337494   0\n",
      "7227  0.0  0.7228 -2.538910   0\n",
      "7228  1.0  0.7229 -2.588348   0\n",
      "7229  3.0  0.7230 -2.932434   0\n",
      "7230  4.0  0.7231 -2.002716   1\n"
     ]
    }
   ],
   "source": [
    "print('First instance of y = 1 in the original data')\n",
    "print(df.iloc[(np.where(np.array(input_y) == 1)[0][0]-5):(np.where(np.array(input_y) == 1)[0][0]+1), ])"
   ]
  },
  {
   "cell_type": "code",
   "execution_count": 23,
   "metadata": {},
   "outputs": [
    {
     "name": "stdout",
     "output_type": "stream",
     "text": [
      "For the same instance of y = 1, we are keeping past 5 samples in the 3D predictor array, X.\n",
      "          0\n",
      "0 -2.002716\n"
     ]
    }
   ],
   "source": [
    "lookback = 1  # Equivalent to 2ms of past data.\n",
    "# Temporalize the data\n",
    "X, y = temporalize(X = input_X, y = input_y, lookback = lookback)\n",
    "print('For the same instance of y = 1, we are keeping past 5 samples in the 3D predictor array, X.')\n",
    "print(pd.DataFrame(np.concatenate(X[np.where(np.array(y) == 1)[0][0]], axis=0 )))"
   ]
  },
  {
   "cell_type": "code",
   "execution_count": 24,
   "metadata": {},
   "outputs": [
    {
     "name": "stdout",
     "output_type": "stream",
     "text": [
      "(63997, 1, 1, 1)\n"
     ]
    }
   ],
   "source": [
    "X_train, X_test, y_train, y_test = train_test_split(np.array(X), np.array(y), test_size=DATA_SPLIT_PCT)\n",
    "X_train, X_valid, y_train, y_valid = train_test_split(X_train, y_train, test_size=DATA_SPLIT_PCT)\n",
    "\n",
    "print(X_train.shape)"
   ]
  },
  {
   "cell_type": "code",
   "execution_count": 25,
   "metadata": {},
   "outputs": [],
   "source": [
    "yy_train = np.reshape(y_train, (-1))\n",
    "yy_valid = np.reshape(y_valid, (-1))\n",
    "yy_test = np.reshape(y_test, (-1))\n",
    "\n",
    "#inliers = X_train[np.where(y_train == 0)]\n",
    "X_train_y0 = X_train[yy_train==0]\n",
    "X_train_y1 = X_train[yy_train==1]\n",
    "X_valid_y0 = X_valid[yy_valid==0]\n",
    "X_valid_y1 = X_valid[yy_valid==1]\n",
    "\n",
    "X_train = X_train.reshape(X_train.shape[0], lookback, n_features)\n",
    "#numan1=flatten(X_train)\n",
    "XX_train=copy(X_train)\n",
    "\n",
    "X_train_y0 = X_train_y0.reshape(X_train_y0.shape[0], lookback, n_features)\n",
    "X_train_y1 = X_train_y1.reshape(X_train_y1.shape[0], lookback, n_features)\n",
    "X_valid = X_valid.reshape(X_valid.shape[0], lookback, n_features)\n",
    "X_valid_y0 = X_valid_y0.reshape(X_valid_y0.shape[0], lookback, n_features)\n",
    "X_valid_y1 = X_valid_y1.reshape(X_valid_y1.shape[0], lookback, n_features)\n",
    "X_test = X_test.reshape(X_test.shape[0], lookback, n_features)"
   ]
  },
  {
   "cell_type": "code",
   "execution_count": 26,
   "metadata": {},
   "outputs": [],
   "source": [
    "def flatten(X):\n",
    "    '''\n",
    "    Flatten a 3D array.\n",
    "    \n",
    "    Input\n",
    "    X            A 3D array for lstm, where the array is sample x timesteps x features.\n",
    "    \n",
    "    Output\n",
    "    flattened_X  A 2D array, sample x features.\n",
    "    '''\n",
    "    flattened_X = np.empty((X.shape[0], X.shape[2]))  # sample x features array.\n",
    "    for i in range(X.shape[0]):\n",
    "        flattened_X[i] = X[i, (X.shape[1]-1), :]\n",
    "        \n",
    "    return(flattened_X)"
   ]
  },
  {
   "cell_type": "code",
   "execution_count": 27,
   "metadata": {},
   "outputs": [],
   "source": [
    "def scale(X, scaler):\n",
    "    '''\n",
    "    Scale 3D array.\n",
    "    Inputs\n",
    "    X            A 3D array for lstm, where the array is sample x timesteps x features.\n",
    "    scaler       A scaler object, e.g., sklearn.preprocessing.StandardScaler, sklearn.preprocessing.normalize\n",
    "    \n",
    "    Output\n",
    "    X            Scaled 3D array.\n",
    "    '''\n",
    "    for i in range(X.shape[0]):\n",
    "        X[i, :, :] = scaler.transform(X[i, :, :])\n",
    "        \n",
    "    return X"
   ]
  },
  {
   "cell_type": "code",
   "execution_count": 28,
   "metadata": {},
   "outputs": [
    {
     "name": "stdout",
     "output_type": "stream",
     "text": [
      "colwise mean [-0.]\n",
      "colwise variance [1.]\n"
     ]
    }
   ],
   "source": [
    "scaler = StandardScaler().fit(flatten(X_train_y0))\n",
    "\n",
    "X_train_y0_scaled = scale(X_train_y0, scaler)\n",
    "X_train_y1_scaled = scale(X_train_y1, scaler)\n",
    "X_train_scaled = scale(X_train, scaler)\n",
    "\n",
    "\n",
    "a = flatten(X_train_y0_scaled)\n",
    "print('colwise mean', np.mean(a, axis=0).round(6))\n",
    "print('colwise variance', np.var(a, axis=0))"
   ]
  },
  {
   "cell_type": "code",
   "execution_count": 29,
   "metadata": {},
   "outputs": [],
   "source": [
    "#scale validation and test sets\n",
    "X_valid_scaled = scale(X_valid, scaler)\n",
    "X_valid_y0_scaled = scale(X_valid_y0, scaler)\n",
    "X_test_scaled = scale(X_test, scaler)"
   ]
  },
  {
   "cell_type": "code",
   "execution_count": 31,
   "metadata": {},
   "outputs": [],
   "source": [
    "#LSTM AE training:\n",
    "timesteps =  X_train_y0_scaled.shape[1] # equal to the lookback\n",
    "n_features =  X_train_y0_scaled.shape[2] # 1\n",
    "\n",
    "epochs = 30\n",
    "batch = 64\n",
    "lr = 0.0001"
   ]
  },
  {
   "cell_type": "code",
   "execution_count": 32,
   "metadata": {},
   "outputs": [
    {
     "name": "stdout",
     "output_type": "stream",
     "text": [
      "WARNING:tensorflow:Layer lstm will not use cuDNN kernel since it doesn't meet the cuDNN kernel criteria. It will use generic GPU kernel as fallback when running on GPU\n",
      "WARNING:tensorflow:Layer lstm_1 will not use cuDNN kernel since it doesn't meet the cuDNN kernel criteria. It will use generic GPU kernel as fallback when running on GPU\n",
      "WARNING:tensorflow:Layer lstm_2 will not use cuDNN kernel since it doesn't meet the cuDNN kernel criteria. It will use generic GPU kernel as fallback when running on GPU\n",
      "WARNING:tensorflow:Layer lstm_3 will not use cuDNN kernel since it doesn't meet the cuDNN kernel criteria. It will use generic GPU kernel as fallback when running on GPU\n",
      "Model: \"sequential_1\"\n",
      "_________________________________________________________________\n",
      "Layer (type)                 Output Shape              Param #   \n",
      "=================================================================\n",
      "lstm (LSTM)                  (None, 1, 128)            66560     \n",
      "_________________________________________________________________\n",
      "lstm_1 (LSTM)                (None, 64)                49408     \n",
      "_________________________________________________________________\n",
      "repeat_vector (RepeatVector) (None, 1, 64)             0         \n",
      "_________________________________________________________________\n",
      "lstm_2 (LSTM)                (None, 1, 64)             33024     \n",
      "_________________________________________________________________\n",
      "lstm_3 (LSTM)                (None, 1, 128)            98816     \n",
      "_________________________________________________________________\n",
      "time_distributed (TimeDistri (None, 1, 1)              129       \n",
      "=================================================================\n",
      "Total params: 247,937\n",
      "Trainable params: 247,937\n",
      "Non-trainable params: 0\n",
      "_________________________________________________________________\n"
     ]
    }
   ],
   "source": [
    "lstm_autoencoder = Sequential()\n",
    "# Encoder it was originially 64//16\n",
    "lstm_autoencoder.add(LSTM(128, activation='relu', input_shape=(timesteps, n_features), return_sequences=True))\n",
    "lstm_autoencoder.add(LSTM(64, activation='relu', return_sequences=False))\n",
    "lstm_autoencoder.add(RepeatVector(timesteps))\n",
    "# Decoder\n",
    "lstm_autoencoder.add(LSTM(64, activation='relu', return_sequences=True))\n",
    "lstm_autoencoder.add(LSTM(128, activation='relu', return_sequences=True))\n",
    "lstm_autoencoder.add(TimeDistributed(Dense(n_features)))\n",
    "\n",
    "lstm_autoencoder.summary()"
   ]
  },
  {
   "cell_type": "code",
   "execution_count": 33,
   "metadata": {},
   "outputs": [
    {
     "name": "stdout",
     "output_type": "stream",
     "text": [
      "Epoch 1/30\n",
      "976/976 - 14s - loss: 0.3972 - val_loss: 0.0279\n",
      "Epoch 2/30\n",
      "976/976 - 13s - loss: 0.0150 - val_loss: 0.0068\n",
      "Epoch 3/30\n",
      "976/976 - 12s - loss: 0.0043 - val_loss: 0.0024\n",
      "Epoch 4/30\n",
      "976/976 - 13s - loss: 0.0016 - val_loss: 0.0010\n",
      "Epoch 5/30\n",
      "976/976 - 13s - loss: 6.8441e-04 - val_loss: 4.9201e-04\n",
      "Epoch 6/30\n",
      "976/976 - 13s - loss: 3.2913e-04 - val_loss: 2.3904e-04\n",
      "Epoch 7/30\n",
      "976/976 - 13s - loss: 1.7025e-04 - val_loss: 1.7260e-04\n",
      "Epoch 8/30\n",
      "976/976 - 13s - loss: 9.2306e-05 - val_loss: 7.3152e-05\n",
      "Epoch 9/30\n",
      "976/976 - 13s - loss: 4.8558e-05 - val_loss: 4.0634e-05\n",
      "Epoch 10/30\n",
      "976/976 - 13s - loss: 2.9221e-05 - val_loss: 2.6808e-05\n",
      "Epoch 11/30\n",
      "976/976 - 12s - loss: 1.7673e-05 - val_loss: 1.8465e-05\n",
      "Epoch 12/30\n",
      "976/976 - 12s - loss: 1.0959e-05 - val_loss: 1.2178e-05\n",
      "Epoch 13/30\n",
      "976/976 - 12s - loss: 8.7514e-06 - val_loss: 8.1052e-06\n",
      "Epoch 14/30\n",
      "976/976 - 12s - loss: 6.6845e-06 - val_loss: 8.0212e-06\n",
      "Epoch 15/30\n",
      "976/976 - 12s - loss: 4.2220e-06 - val_loss: 4.2018e-06\n",
      "Epoch 16/30\n",
      "976/976 - 12s - loss: 3.5549e-06 - val_loss: 3.4211e-06\n",
      "Epoch 17/30\n",
      "976/976 - 12s - loss: 3.0716e-06 - val_loss: 2.2541e-06\n",
      "Epoch 18/30\n",
      "976/976 - 12s - loss: 2.6807e-06 - val_loss: 2.0074e-06\n",
      "Epoch 19/30\n",
      "976/976 - 12s - loss: 2.1514e-06 - val_loss: 1.7487e-06\n",
      "Epoch 20/30\n",
      "976/976 - 12s - loss: 2.0228e-06 - val_loss: 4.2357e-05\n",
      "Epoch 21/30\n",
      "976/976 - 12s - loss: 1.9463e-06 - val_loss: 1.2725e-06\n",
      "Epoch 22/30\n",
      "976/976 - 12s - loss: 1.6787e-06 - val_loss: 1.6279e-06\n",
      "Epoch 23/30\n",
      "976/976 - 12s - loss: 1.3737e-06 - val_loss: 1.1767e-06\n",
      "Epoch 24/30\n",
      "976/976 - 12s - loss: 1.6821e-06 - val_loss: 4.5069e-06\n",
      "Epoch 25/30\n",
      "976/976 - 12s - loss: 1.2528e-06 - val_loss: 4.7736e-06\n",
      "Epoch 26/30\n",
      "976/976 - 12s - loss: 1.2716e-06 - val_loss: 1.8321e-06\n",
      "Epoch 27/30\n",
      "976/976 - 12s - loss: 1.3686e-06 - val_loss: 6.4466e-07\n",
      "Epoch 28/30\n",
      "976/976 - 12s - loss: 1.2825e-06 - val_loss: 7.2933e-07\n",
      "Epoch 29/30\n",
      "976/976 - 12s - loss: 1.3034e-06 - val_loss: 1.8207e-06\n",
      "Epoch 30/30\n",
      "976/976 - 12s - loss: 1.1057e-06 - val_loss: 4.2456e-06\n"
     ]
    }
   ],
   "source": [
    "adam = optimizers.Adam(lr)\n",
    "lstm_autoencoder.compile(loss='mse', optimizer=adam)\n",
    "\n",
    "cp = ModelCheckpoint(filepath=\"lstm_autoencoder_classifier.h5\",\n",
    "                               save_best_only=True,\n",
    "                               verbose=0)\n",
    "\n",
    "tb = TensorBoard(log_dir='./logs',\n",
    "                histogram_freq=0,\n",
    "                write_graph=True,\n",
    "                write_images=True)\n",
    "\n",
    "lstm_autoencoder_history = lstm_autoencoder.fit(X_train_y0_scaled, X_train_y0_scaled, \n",
    "                                                epochs=epochs, \n",
    "                                                batch_size=batch, \n",
    "                                                validation_data=(X_valid_y0_scaled, X_valid_y0_scaled),\n",
    "                                                verbose=2).history"
   ]
  },
  {
   "cell_type": "code",
   "execution_count": 34,
   "metadata": {},
   "outputs": [
    {
     "data": {
      "image/png": "[encoded data removed]",
      "text/plain": [
       "<Figure size 432x288 with 1 Axes>"
      ]
     },
     "metadata": {
      "needs_background": "light"
     },
     "output_type": "display_data"
    }
   ],
   "source": [
    "plt.plot(lstm_autoencoder_history['loss'], linewidth=2, label='Train')\n",
    "plt.plot(lstm_autoencoder_history['val_loss'], linewidth=2, label='Valid')\n",
    "plt.legend(loc='upper right')\n",
    "plt.title('Model loss')\n",
    "plt.ylabel('Loss')\n",
    "plt.xlabel('Epoch')\n",
    "plt.show()"
   ]
  },
  {
   "cell_type": "code",
   "execution_count": 35,
   "metadata": {},
   "outputs": [
    {
     "data": {
      "image/png": "[encoded data removed]",
      "text/plain": [
       "<Figure size 432x288 with 1 Axes>"
      ]
     },
     "metadata": {
      "needs_background": "light"
     },
     "output_type": "display_data"
    }
   ],
   "source": [
    "#valid data predictions using LSTM AE\n",
    "train_x_predictions = lstm_autoencoder.predict(X_train_scaled)\n",
    "x_train_df=df[1].copy()\n",
    "\n",
    "mse = np.mean(np.power(flatten(X_train_scaled) - flatten(train_x_predictions), 2), axis=1)\n",
    "\n",
    "error_df = pd.DataFrame({'Reconstruction_error': mse,\n",
    "                        'True_class': yy_train.tolist()})\n",
    "\n",
    "groups = error_df.groupby('True_class')\n",
    "fig, ax = plt.subplots()\n",
    "\n",
    "for name, group in groups:\n",
    "    ax.plot(group.index, group.Reconstruction_error, marker='o', ms=3.5, linestyle='',\n",
    "            label= \"Break\" if name == 1 else \"Normal\")\n",
    "    \n",
    "ax.legend()\n",
    "plt.title(\"Reconstruction error for different classes\")\n",
    "plt.ylabel(\"Reconstruction error\")\n",
    "plt.xlabel(\"Data point index\")\n",
    "plt.show()"
   ]
  },
  {
   "cell_type": "code",
   "execution_count": 36,
   "metadata": {},
   "outputs": [
    {
     "data": {
      "image/png": "[encoded data removed]",
      "text/plain": [
       "<Figure size 432x288 with 1 Axes>"
      ]
     },
     "metadata": {
      "needs_background": "light"
     },
     "output_type": "display_data"
    }
   ],
   "source": [
    "#test data predictions using LSTM AE\n",
    "test_x_predictions = lstm_autoencoder.predict(X_test_scaled)\n",
    "\n",
    "mse = np.mean(np.power(flatten(X_test_scaled) - flatten(test_x_predictions), 2), axis=1)\n",
    "\n",
    "error_df = pd.DataFrame({'Reconstruction_error': mse,\n",
    "                        'True_class': yy_test.tolist()})\n",
    "\n",
    "threshold_fixed = 0.000001\n",
    "#thresh = error_df.Reconstruction_error(np.where(error_df.True_class==1))\n",
    "\n",
    "groups = error_df.groupby('True_class')\n",
    "fig, ax = plt.subplots()\n",
    "\n",
    "for name, group in groups:\n",
    "    ax.plot(group.index, group.Reconstruction_error, marker='o', ms=3.5, linestyle='',\n",
    "            label= \"Break\" if name == 1 else \"Normal\")\n",
    "ax.hlines(threshold_fixed, ax.get_xlim()[0], ax.get_xlim()[1], colors=\"r\", zorder=100, label='Threshold')\n",
    "ax.legend()\n",
    "plt.title(\"Reconstruction error for different classes\")\n",
    "plt.ylabel(\"Reconstruction error\")\n",
    "plt.xlabel(\"Data point index\")\n",
    "plt.show()"
   ]
  },
  {
   "cell_type": "code",
   "execution_count": 37,
   "metadata": {},
   "outputs": [
    {
     "data": {
      "image/png": "[encoded data removed]",
      "text/plain": [
       "<Figure size 432x432 with 2 Axes>"
      ]
     },
     "metadata": {
      "needs_background": "light"
     },
     "output_type": "display_data"
    }
   ],
   "source": [
    "#confusion matrix\n",
    "pred_y = [1 if e > threshold_fixed else 0 for e in error_df.Reconstruction_error.values]\n",
    "conf_matrix = confusion_matrix(error_df.True_class, pred_y)\n",
    "\n",
    "plt.figure(figsize=(6, 6))\n",
    "sns.heatmap(conf_matrix, xticklabels=LABELS, yticklabels=LABELS, annot=True, fmt=\"d\");\n",
    "plt.title(\"Confusion matrix\")\n",
    "plt.ylabel('True class')\n",
    "plt.xlabel('Predicted class')\n",
    "plt.show()"
   ]
  },
  {
   "cell_type": "code",
   "execution_count": 38,
   "metadata": {},
   "outputs": [
    {
     "data": {
      "image/png": "[encoded data removed]",
      "text/plain": [
       "<Figure size 432x288 with 1 Axes>"
      ]
     },
     "metadata": {
      "needs_background": "light"
     },
     "output_type": "display_data"
    }
   ],
   "source": [
    "#ROC curve\n",
    "false_pos_rate, true_pos_rate, thresholds = roc_curve(error_df.True_class, error_df.Reconstruction_error)\n",
    "roc_auc = auc(false_pos_rate, true_pos_rate,)\n",
    "\n",
    "plt.plot(false_pos_rate, true_pos_rate, linewidth=5, label='AUC = %0.3f'% roc_auc)\n",
    "plt.plot([0,1],[0,1], linewidth=5)\n",
    "\n",
    "plt.xlim([-0.01, 1])\n",
    "plt.ylim([0, 1.01])\n",
    "plt.legend(loc='lower right')\n",
    "plt.title('Receiver operating characteristic curve (ROC)')\n",
    "plt.ylabel('True Positive Rate')\n",
    "plt.xlabel('False Positive Rate')\n",
    "plt.show()"
   ]
  }
 ],
 "metadata": {
  "kernelspec": {
   "display_name": "Python 3",
   "language": "python",
   "name": "python3"
  },
  "language_info": {
   "codemirror_mode": {
    "name": "ipython",
    "version": 3
   },
   "file_extension": ".py",
   "mimetype": "text/x-python",
   "name": "python",
   "nbconvert_exporter": "python",
   "pygments_lexer": "ipython3",
   "version": "3.8.5"
  }
 },
 "nbformat": 4,
 "nbformat_minor": 4
}
